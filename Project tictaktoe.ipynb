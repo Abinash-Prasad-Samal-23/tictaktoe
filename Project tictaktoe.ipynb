{
 "cells": [
  {
   "cell_type": "code",
   "execution_count": null,
   "id": "68ec6c25",
   "metadata": {},
   "outputs": [],
   "source": [
    "def check(b,p):\n",
    "    #rows checking\n",
    "    for i in range(0,3,):\n",
    "        if b[i][0]==b[i][1] and b[i][1]==b[i][2]:\n",
    "            if p%2==0:\n",
    "                print(\"player 1 won\")\n",
    "            else:\n",
    "                print(\"player 2 won\")\n",
    "            return True\n",
    "    #rows checking over\n",
    "    #columns checking\n",
    "    for i in range(0,3,):\n",
    "        if b[0][i]==b[1][i] and b[1][i]==b[2][i]:\n",
    "            if p%2==0:\n",
    "                print(\"player 1 won\")\n",
    "            else:\n",
    "                print(\"player 2 won\")\n",
    "            return True\n",
    "    #columns checking over\n",
    "    #left diagonal checking\n",
    "    if b[0][0]==b[1][1] and b[1][1]==b[2][2]:\n",
    "        if p%2==0:\n",
    "            print(\"player 1 won\")\n",
    "        else:\n",
    "            print(\"player 2 won\")\n",
    "        return True\n",
    "    #left diagonal checking\n",
    "    #right diagonal checking\n",
    "    if b[0][2]==b[1][1] and b[1][1]==b[2][0]:\n",
    "        if p%2==0:\n",
    "            print(\"player 1 won\")\n",
    "        else:\n",
    "            print(\"player 2 won\")\n",
    "        return True\n",
    "    #right diagonal checking\n",
    "    #draw condition\n",
    "    pos=0\n",
    "    for i in range(0,3,):\n",
    "        for j in range(0,3,):\n",
    "            if b[i][j]!='x' and b[i][j]!=\"o\":\n",
    "                pos+=1\n",
    "    if pos==0:\n",
    "        print(\"match draw\")\n",
    "        return True\n",
    "    return False"
   ]
  },
  {
   "cell_type": "code",
   "execution_count": null,
   "id": "0cc4e587",
   "metadata": {},
   "outputs": [],
   "source": [
    "def playerInput(b,p):\n",
    "    if p%2==0:\n",
    "        c=\"x\"\n",
    "        print(\"player 1 where do you want to insert\")\n",
    "    else:\n",
    "        c=\"o\"\n",
    "        print(\"player 2 where do you want to insert\")\n",
    "    pos=int(input())\n",
    "    while pos>8:\n",
    "        print(\"wrong position,enter again\")\n",
    "        pos=int(input())\n",
    "    for i in range(0,3,):\n",
    "        for j in range(0,3,):\n",
    "            if pos==b[i][j]:\n",
    "                b[i][j]=c\n",
    "                break"
   ]
  },
  {
   "cell_type": "code",
   "execution_count": null,
   "id": "af583e3c",
   "metadata": {},
   "outputs": [],
   "source": [
    "def printBoard(b):\n",
    "    for i in range(0,3,):\n",
    "        print(\"---------\")\n",
    "        for j in range(0,3,):\n",
    "            print(\"|\",end=\"\")\n",
    "            print(b[i][j],end=\"\")\n",
    "            print(\"|\",end=\"\")\n",
    "        print()\n",
    "    print(\"---------\")"
   ]
  },
  {
   "cell_type": "code",
   "execution_count": null,
   "id": "4f3c36cd",
   "metadata": {},
   "outputs": [],
   "source": [
    "print(\"---------------------------\")\n",
    "print(\"\\tSTART GAME\")\n",
    "print(\"---------------------------\")\n",
    "board=[[0,1,2],[3,4,5],[6,7,8]]\n",
    "printBoard(board)\n",
    "p=0\n",
    "gameEnd=False\n",
    "while gameEnd==False:\n",
    "    playerInput(board,p)\n",
    "    printBoard(board,p)\n",
    "    gameEnd=check()\n",
    "    p+=1"
   ]
  }
 ],
 "metadata": {
  "kernelspec": {
   "display_name": "Python 3 (ipykernel)",
   "language": "python",
   "name": "python3"
  },
  "language_info": {
   "codemirror_mode": {
    "name": "ipython",
    "version": 3
   },
   "file_extension": ".py",
   "mimetype": "text/x-python",
   "name": "python",
   "nbconvert_exporter": "python",
   "pygments_lexer": "ipython3",
   "version": "3.9.7"
  }
 },
 "nbformat": 4,
 "nbformat_minor": 5
}
